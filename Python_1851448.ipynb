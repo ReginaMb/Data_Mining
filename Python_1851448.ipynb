{
  "nbformat": 4,
  "nbformat_minor": 0,
  "metadata": {
    "colab": {
      "name": "Python_1851448.ipynb",
      "provenance": [],
      "authorship_tag": "ABX9TyNYYiSzTBKzjzVV/KI53uvP"
    },
    "kernelspec": {
      "name": "python3",
      "display_name": "Python 3"
    },
    "language_info": {
      "name": "python"
    }
  },
  "cells": [
    {
      "cell_type": "markdown",
      "metadata": {
        "id": "FuVQ1ND-iWnK"
      },
      "source": [
        "# **Ejercicio 1**\n",
        "Realiza una variable con tu matricula y realiza una secuencia de imprimir con tu nombre y tu matricula concatenados."
      ]
    },
    {
      "cell_type": "code",
      "metadata": {
        "colab": {
          "base_uri": "https://localhost:8080/"
        },
        "id": "hd5-fExfigHd",
        "outputId": "140813ca-88b6-4519-87c3-4e23135141fe"
      },
      "source": [
        "Nom=\"Regina Muñoz\"\n",
        "Mat=1851448\n",
        "\n",
        "print(Nom,Mat)"
      ],
      "execution_count": null,
      "outputs": [
        {
          "output_type": "stream",
          "text": [
            "Regina Muñoz 1851448\n"
          ],
          "name": "stdout"
        }
      ]
    },
    {
      "cell_type": "markdown",
      "metadata": {
        "id": "pTSUS-ozlxQR"
      },
      "source": [
        "# **Ejercicio 2**\n",
        "Pidiendo el input del usuario pide dos números y crea una pequeña calculadora con los operadores básicos de suma, resta, multiplicación, división, y exponente.\n"
      ]
    },
    {
      "cell_type": "code",
      "metadata": {
        "colab": {
          "base_uri": "https://localhost:8080/"
        },
        "id": "f3xuMvdpl-tm",
        "outputId": "51cc85d9-7f86-49ef-987a-487a82fface7"
      },
      "source": [
        "N1 = int(input(\"Primer número:\" ))\n",
        "N2 = int(input(\"Segundo número: \"))\n",
        "\n",
        "print(\"\\nSuma:\",N1+N2)\n",
        "print(\"Resta:\",N1-N2)\n",
        "print(\"Multiplicación:\",N1*N2)\n",
        "print(\"División:\",N1/N2)\n",
        "print(\"Exponente:\",N1**N2)"
      ],
      "execution_count": null,
      "outputs": [
        {
          "output_type": "stream",
          "text": [
            "Primer número:2\n",
            "Segundo número: 3\n",
            "\n",
            "Suma: 5\n",
            "Resta: -1\n",
            "Multiplicación: 6\n",
            "División: 0.6666666666666666\n",
            "Exponente: 8\n"
          ],
          "name": "stdout"
        }
      ]
    },
    {
      "cell_type": "markdown",
      "metadata": {
        "id": "U4ZkOj0do9x3"
      },
      "source": [
        "#**Ejercicio 3**\n",
        "Con loop while o for, realiza una lista de 10 numeros multiplos de 3, y después realiza una función de loop que sume todos los números dentro del arreglo.\n",
        "\n"
      ]
    },
    {
      "cell_type": "code",
      "metadata": {
        "colab": {
          "base_uri": "https://localhost:8080/"
        },
        "id": "gNtUVwYKrQMb",
        "outputId": "786351c4-f9e9-4bd1-f96d-2739048c0208"
      },
      "source": [
        "a1=[3]\n",
        "i=2\n",
        "while i <= 10:\n",
        "    a1=a1+[i*3]\n",
        "    i=i+1\n",
        "a2=0\n",
        "i=0\n",
        "while i <= 9:\n",
        "     a2=a2+a1[i]\n",
        "     i=i+1\n",
        "print(\"Lista multiplos de 3:\",a1)\n",
        "print(\"Suma de arreglo:\",a2)"
      ],
      "execution_count": null,
      "outputs": [
        {
          "output_type": "stream",
          "text": [
            "Lista multiplos de 3: [3, 6, 9, 12, 15, 18, 21, 24, 27, 30]\n",
            "Suma de arreglo: 165\n"
          ],
          "name": "stdout"
        }
      ]
    },
    {
      "cell_type": "markdown",
      "metadata": {
        "id": "n8OHeyQzytH4"
      },
      "source": [
        "#**Ejercicio 4**\n",
        "* Con una función de if else, revisar si un número es par o es impar.\n",
        "* Con una función de if else, revisar si un número es primo o no."
      ]
    },
    {
      "cell_type": "code",
      "metadata": {
        "colab": {
          "base_uri": "https://localhost:8080/"
        },
        "id": "OD3QUZ6Oy5wx",
        "outputId": "1c50fda1-e9d0-49b5-b289-4243953805e3"
      },
      "source": [
        "a = int(input(\"Introduce un número: \"))\n",
        "if  a%2 != 0: \n",
        "    print (\"El número es impar\")\n",
        "else:\n",
        "    print (\"El número es par\")\n",
        "\n",
        "i=2\n",
        "while i < a:\n",
        "    if a%i != 0:\n",
        "     b=0\n",
        "    else:\n",
        "     b=1\n",
        "     i=a\n",
        "    i=i+1\n",
        "    \n",
        "\n",
        "if  b == 0: \n",
        "    print(\"Es primo\")\n",
        "else:\n",
        "    print(\"No es primo\")"
      ],
      "execution_count": null,
      "outputs": [
        {
          "output_type": "stream",
          "text": [
            "Introduce un número: 43\n",
            "El número es impar\n",
            "Es primo\n"
          ],
          "name": "stdout"
        }
      ]
    },
    {
      "cell_type": "markdown",
      "metadata": {
        "id": "3_NTg-H0F_oM"
      },
      "source": [
        "#**Ejercicio 5**\n",
        "Utilizando diferentes clases en python, crea una calculadora con los operadores básicos de suma, resta, multiplicación, división, y exponente."
      ]
    },
    {
      "cell_type": "code",
      "metadata": {
        "id": "Ceoz3DUDGG1A",
        "colab": {
          "base_uri": "https://localhost:8080/"
        },
        "outputId": "9f1a4bc1-ea96-402d-db50-9782ac3de8e8"
      },
      "source": [
        "class Calculadora:\n",
        "  def __init__(self,a,b):\n",
        "    self.a=a\n",
        "    self.b=b\n",
        "  def suma(self):\n",
        "    return self.a + self.b\n",
        "  def resta(self):\n",
        "    return self.a - self.b\n",
        "  def mult(self):\n",
        "    return self.a * self.b\n",
        "  def div(self):\n",
        "    return self.a / self.b\n",
        "  def exp(self):\n",
        "    return self.a ** self.b\n",
        "\n",
        "a = int(input(\"Primer número:\" ))\n",
        "b = int(input(\"Segundo número: \"))\n",
        "Datos=Calculadora(a,b)\n",
        "print(\"\\nSuma:\",Datos.suma())\n",
        "print(\"Resta:\",Datos.resta())\n",
        "print(\"Multiplicación:\",Datos.mult())\n",
        "print(\"División:\",Datos.div())\n",
        "print(\"Exponente:\",Datos.exp())"
      ],
      "execution_count": 292,
      "outputs": [
        {
          "output_type": "stream",
          "text": [
            "Primer número:2\n",
            "Segundo número: 3\n",
            "\n",
            "Suma: 5\n",
            "Resta: -1\n",
            "Multiplicación: 6\n",
            "División: 0.6666666666666666\n",
            "Exponente: 8\n"
          ],
          "name": "stdout"
        }
      ]
    },
    {
      "cell_type": "markdown",
      "metadata": {
        "id": "NzJCTWycNXBo"
      },
      "source": [
        "#**Ejercicios Tuplas**\n",
        "Crear una variable flotante, integer, boleana y compleja e imprimir el tipo de variable que es."
      ]
    },
    {
      "cell_type": "code",
      "metadata": {
        "colab": {
          "base_uri": "https://localhost:8080/"
        },
        "id": "EwBjlUG_SAn3",
        "outputId": "4a9b94a4-9d1e-4135-d821-8bda1b2b47e1"
      },
      "source": [
        "x=20\n",
        "print(type(x))\n",
        "y=10.23\n",
        "print(type(y))\n",
        "z=True\n",
        "print(type(z))\n",
        "u=complex(20)\n",
        "print(type(u))"
      ],
      "execution_count": null,
      "outputs": [
        {
          "output_type": "stream",
          "text": [
            "<class 'int'>\n",
            "<class 'float'>\n",
            "<class 'bool'>\n",
            "<class 'complex'>\n"
          ],
          "name": "stdout"
        }
      ]
    },
    {
      "cell_type": "markdown",
      "metadata": {
        "id": "31_-eSfoeNdq"
      },
      "source": [
        "Crear una tupla con valores enteros imprimir el primer y ultimo valor."
      ]
    },
    {
      "cell_type": "code",
      "metadata": {
        "colab": {
          "base_uri": "https://localhost:8080/"
        },
        "id": "QpJX2HwSeOam",
        "outputId": "f1a87171-16d9-414e-ceaa-d8b979d3c902"
      },
      "source": [
        "t1=(1,3,5,7,9)\n",
        "print(\"Primer valor: \",t1[0])\n",
        "print(\"Segundo valor: \",t1[-1])"
      ],
      "execution_count": null,
      "outputs": [
        {
          "output_type": "stream",
          "text": [
            "Primer valor:  1\n",
            "Segundo valor:  9\n"
          ],
          "name": "stdout"
        }
      ]
    },
    {
      "cell_type": "markdown",
      "metadata": {
        "id": "kNoEH_2WezsJ"
      },
      "source": [
        "Añadir 3 valores de string a la tupla."
      ]
    },
    {
      "cell_type": "code",
      "metadata": {
        "colab": {
          "base_uri": "https://localhost:8080/"
        },
        "id": "7P1STYk4e14x",
        "outputId": "dd9e2fb4-8231-4bd2-bbde-b31b6fdd08e0"
      },
      "source": [
        "t1.__add__((\"once\",\"trece\",\"quince\"))"
      ],
      "execution_count": null,
      "outputs": [
        {
          "output_type": "execute_result",
          "data": {
            "text/plain": [
              "(1, 3, 5, 7, 9, 'once', 'trece', 'quince')"
            ]
          },
          "metadata": {},
          "execution_count": 100
        }
      ]
    },
    {
      "cell_type": "markdown",
      "metadata": {
        "id": "AEXSin07feXA"
      },
      "source": [
        "Verificar si una variable existe dentro de la tupla.\n",
        "\n"
      ]
    },
    {
      "cell_type": "code",
      "metadata": {
        "colab": {
          "base_uri": "https://localhost:8080/"
        },
        "id": "2Amhqdq_fgTG",
        "outputId": "df074c7a-c6f9-44ad-f033-2ea7c5d7237e"
      },
      "source": [
        "a=int(input(\"Buscar en tupla: \",))\n",
        "if a in t1:\n",
        "  print(\"Si se encuentra en la tupla\")\n",
        "else:\n",
        "  print(\"No se encuentra en la tupla\")"
      ],
      "execution_count": null,
      "outputs": [
        {
          "output_type": "stream",
          "text": [
            "Buscar en tupla: 9\n",
            "Si se encuentra en la tupla\n"
          ],
          "name": "stdout"
        }
      ]
    },
    {
      "cell_type": "markdown",
      "metadata": {
        "id": "QXZZw0SQg4LF"
      },
      "source": [
        "#**Listas**\n",
        "Crear una lista con 40 elementos aleatorios enteros."
      ]
    },
    {
      "cell_type": "code",
      "metadata": {
        "colab": {
          "base_uri": "https://localhost:8080/"
        },
        "id": "l28fUGkLhQ_h",
        "outputId": "0649abda-53b8-4d57-8983-bf41b9dbf252"
      },
      "source": [
        "import random as r\n",
        "list1 = []\n",
        "for i in range (0,40):\n",
        "    list1.append(r.randint(1,10000))\n",
        "    \n",
        "print (list1)"
      ],
      "execution_count": null,
      "outputs": [
        {
          "output_type": "stream",
          "text": [
            "[36, 5775, 4283, 4564, 6044, 9019, 6485, 5349, 1189, 7185, 3183, 1502, 7978, 2556, 3204, 6468, 7373, 41, 6546, 547, 1374, 6252, 5840, 3074, 8746, 7485, 9346, 9889, 8462, 5293, 453, 2072, 7595, 4372, 6981, 7147, 9833, 7953, 9508, 9682]\n"
          ],
          "name": "stdout"
        }
      ]
    },
    {
      "cell_type": "markdown",
      "metadata": {
        "id": "sKHctfTGjbcz"
      },
      "source": [
        "Con una funcion (def) crear dos listas nuevas a partir de la lista creada por numeros aleatorios, en la cual en una esten los elementos pares, y en la otra los elementos impares."
      ]
    },
    {
      "cell_type": "code",
      "metadata": {
        "colab": {
          "base_uri": "https://localhost:8080/"
        },
        "id": "FRW-FQR2jd_o",
        "outputId": "0e654c96-7663-4608-a5f6-9f43e035c9af"
      },
      "source": [
        "def Dividir_pares(list_fun):\n",
        "  listp=list()\n",
        "  listimp=list()\n",
        "  for i in range(0,len(list_fun)):\n",
        "    if list_fun[i]%2==0:\n",
        "      listp.append(list_fun[i])\n",
        "    else:\n",
        "      listimp.append(list_fun[i])\n",
        "  return((listp),(listimp))\n",
        "\n",
        "Div=Dividir_pares(list1)\n",
        "print(\"Lista de pares: \",Div[0])\n",
        "print(\"Lista de impares: \",Div[1])"
      ],
      "execution_count": null,
      "outputs": [
        {
          "output_type": "stream",
          "text": [
            "Lista de pares:  [36, 4564, 6044, 1502, 7978, 2556, 3204, 6468, 6546, 1374, 6252, 5840, 3074, 8746, 9346, 8462, 2072, 4372, 9508, 9682]\n",
            "Lista de impares:  [5775, 4283, 9019, 6485, 5349, 1189, 7185, 3183, 7373, 41, 547, 7485, 9889, 5293, 453, 7595, 6981, 7147, 9833, 7953]\n"
          ],
          "name": "stdout"
        }
      ]
    },
    {
      "cell_type": "markdown",
      "metadata": {
        "id": "edX6E_jZ1933"
      },
      "source": [
        "Crear dos variables con la longitud de ambas listas nuevas e imprimir las variables."
      ]
    },
    {
      "cell_type": "code",
      "metadata": {
        "colab": {
          "base_uri": "https://localhost:8080/"
        },
        "id": "bfHd1O9H1_5v",
        "outputId": "96e74ad3-0ece-4715-c104-b007ad3d3422"
      },
      "source": [
        "Lenpar=len(Div[0])\n",
        "Lenimpar=len(Div[1])\n",
        "print(\"Longitud de pares: \",Lenpar)\n",
        "print(\"Longitud de impares: \",Lenimpar)"
      ],
      "execution_count": null,
      "outputs": [
        {
          "output_type": "stream",
          "text": [
            "Longitud de pares:  20\n",
            "Longitud de impares:  20\n"
          ],
          "name": "stdout"
        }
      ]
    },
    {
      "cell_type": "markdown",
      "metadata": {
        "id": "S6SormG-4IRl"
      },
      "source": [
        "Ordenar los elementos de la lista par de mayor a menor, y los de la lista impar de menor a mayor.\n",
        "\n"
      ]
    },
    {
      "cell_type": "code",
      "metadata": {
        "colab": {
          "base_uri": "https://localhost:8080/"
        },
        "id": "6oWAUN3m4K3O",
        "outputId": "ee6d7053-45dc-4cef-c2f6-6a3df59420ad"
      },
      "source": [
        "Div[0].sort(reverse=True)\n",
        "Div[1].sort()\n",
        "print(\"Lista > de pares: \",Div[0])\n",
        "print(\"Lista < de impares: \",Div[1])"
      ],
      "execution_count": null,
      "outputs": [
        {
          "output_type": "stream",
          "text": [
            "Lista > de pares:  [9682, 9508, 9346, 8746, 8462, 7978, 6546, 6468, 6252, 6044, 5840, 4564, 4372, 3204, 3074, 2556, 2072, 1502, 1374, 36]\n",
            "Lista < de impares:  [41, 453, 547, 1189, 3183, 4283, 5293, 5349, 5775, 6485, 6981, 7147, 7185, 7373, 7485, 7595, 7953, 9019, 9833, 9889]\n"
          ],
          "name": "stdout"
        }
      ]
    },
    {
      "cell_type": "markdown",
      "metadata": {
        "id": "vUSSnLLw5LqF"
      },
      "source": [
        "Utilizar al menos cuatro de las funciones de listas en python en la lista original de 40 elementos."
      ]
    },
    {
      "cell_type": "code",
      "metadata": {
        "colab": {
          "base_uri": "https://localhost:8080/"
        },
        "id": "aF8NDZur5O8-",
        "outputId": "6340e535-1b80-439f-92d7-2b18b42997a9"
      },
      "source": [
        "list1.insert(2,34)\n",
        "print(list1)\n",
        "list1.pop()\n",
        "print(list1)\n",
        "list1.remove(34)\n",
        "print(list1)\n",
        "list1.reverse()\n",
        "print(list1)"
      ],
      "execution_count": null,
      "outputs": [
        {
          "output_type": "stream",
          "text": [
            "[36, 5775, 34, 4283, 4564, 6044, 9019, 6485, 5349, 1189, 7185, 3183, 1502, 7978, 2556, 3204, 6468, 7373, 41, 6546, 547, 1374, 6252, 5840, 3074, 8746, 7485, 9346, 9889, 8462, 5293, 453, 2072, 7595, 4372, 6981, 7147, 9833, 7953, 9508, 9682]\n",
            "[36, 5775, 34, 4283, 4564, 6044, 9019, 6485, 5349, 1189, 7185, 3183, 1502, 7978, 2556, 3204, 6468, 7373, 41, 6546, 547, 1374, 6252, 5840, 3074, 8746, 7485, 9346, 9889, 8462, 5293, 453, 2072, 7595, 4372, 6981, 7147, 9833, 7953, 9508]\n",
            "[36, 5775, 4283, 4564, 6044, 9019, 6485, 5349, 1189, 7185, 3183, 1502, 7978, 2556, 3204, 6468, 7373, 41, 6546, 547, 1374, 6252, 5840, 3074, 8746, 7485, 9346, 9889, 8462, 5293, 453, 2072, 7595, 4372, 6981, 7147, 9833, 7953, 9508]\n",
            "[9508, 7953, 9833, 7147, 6981, 4372, 7595, 2072, 453, 5293, 8462, 9889, 9346, 7485, 8746, 3074, 5840, 6252, 1374, 547, 6546, 41, 7373, 6468, 3204, 2556, 7978, 1502, 3183, 7185, 1189, 5349, 6485, 9019, 6044, 4564, 4283, 5775, 36]\n"
          ],
          "name": "stdout"
        }
      ]
    },
    {
      "cell_type": "markdown",
      "metadata": {
        "id": "sjiWIhx88xJJ"
      },
      "source": [
        "#**Diccionarios**\n",
        "Crear un diccionario de 6 personas que conozcas con su primer nombre y su edad.\n",
        "\n"
      ]
    },
    {
      "cell_type": "code",
      "metadata": {
        "colab": {
          "base_uri": "https://localhost:8080/"
        },
        "id": "VmSHekmy8xrI",
        "outputId": "306f3aef-7e33-46b6-c63c-7f134a438501"
      },
      "source": [
        "Dict1={'Edgar':22,'Debanhi':19,'Regina':20,'Mariana':23,'Adrián':22,'Ana':21}\n",
        "Dict1"
      ],
      "execution_count": null,
      "outputs": [
        {
          "output_type": "execute_result",
          "data": {
            "text/plain": [
              "{'Adrián': 22,\n",
              " 'Ana': 21,\n",
              " 'Debanhi': 19,\n",
              " 'Edgar': 22,\n",
              " 'Mariana': 23,\n",
              " 'Regina': 20}"
            ]
          },
          "metadata": {},
          "execution_count": 221
        }
      ]
    },
    {
      "cell_type": "markdown",
      "metadata": {
        "id": "3g8sKVieBAy_"
      },
      "source": [
        "Crear una lista con los valores de la edad y reacomodar la lista de menor a mayor valor.\n",
        "\n"
      ]
    },
    {
      "cell_type": "code",
      "metadata": {
        "colab": {
          "base_uri": "https://localhost:8080/"
        },
        "id": "C4yRTkfTBDNB",
        "outputId": "08eea868-d885-4424-a49e-56ffdbb81f82"
      },
      "source": [
        "List2=list(Dict1.values())\n",
        "List2.sort()\n",
        "List2"
      ],
      "execution_count": null,
      "outputs": [
        {
          "output_type": "execute_result",
          "data": {
            "text/plain": [
              "[19, 20, 21, 22, 22, 23]"
            ]
          },
          "metadata": {},
          "execution_count": 238
        }
      ]
    },
    {
      "cell_type": "markdown",
      "metadata": {
        "id": "1izDu8HHCMe8"
      },
      "source": [
        "Usando el diccionario y un loop, imprimir solo los nombres.\n",
        "\n"
      ]
    },
    {
      "cell_type": "code",
      "metadata": {
        "colab": {
          "base_uri": "https://localhost:8080/"
        },
        "id": "kzcB5JmICO8y",
        "outputId": "42ed7732-5146-4ecb-9993-98b2e93c858d"
      },
      "source": [
        "for i in Dict1:print(i)"
      ],
      "execution_count": null,
      "outputs": [
        {
          "output_type": "stream",
          "text": [
            "Edgar\n",
            "Debanhi\n",
            "Regina\n",
            "Mariana\n",
            "Adrián\n",
            "Ana\n"
          ],
          "name": "stdout"
        }
      ]
    },
    {
      "cell_type": "markdown",
      "metadata": {
        "id": "fOZ9VDKfCghJ"
      },
      "source": [
        "Añadir dos personas nuevas a tu diccionario, incluyendo edad.\n",
        "\n"
      ]
    },
    {
      "cell_type": "code",
      "metadata": {
        "colab": {
          "base_uri": "https://localhost:8080/"
        },
        "id": "ag5h2ZwNCh69",
        "outputId": "b53f12e7-d043-49c7-bcef-dbf9b7eec6ff"
      },
      "source": [
        "Dict1['Judith']=18\n",
        "Dict1['Cesar']=20\n",
        "Dict1"
      ],
      "execution_count": null,
      "outputs": [
        {
          "output_type": "execute_result",
          "data": {
            "text/plain": [
              "{'Adrián': 22,\n",
              " 'Ana': 21,\n",
              " 'Cesar': 20,\n",
              " 'Debanhi': 19,\n",
              " 'Edgar': 22,\n",
              " 'Judith': 18,\n",
              " 'Mariana': 23,\n",
              " 'Regina': 20}"
            ]
          },
          "metadata": {},
          "execution_count": 242
        }
      ]
    },
    {
      "cell_type": "markdown",
      "metadata": {
        "id": "CghZQIS9C6Z0"
      },
      "source": [
        "#**Sets**\n",
        "Crea un set con 100 numeros aleatorios enteros del 1 al 25.\n",
        "\n"
      ]
    },
    {
      "cell_type": "code",
      "metadata": {
        "colab": {
          "base_uri": "https://localhost:8080/"
        },
        "id": "wZIlm8sTC-Yo",
        "outputId": "6ede3ea3-e942-4139-f6a3-6c88967ac21a"
      },
      "source": [
        "import random as r\n",
        "listaux = []\n",
        "for i in range (0,100):\n",
        "    listaux.append(r.randint(1, 25))\n",
        "Set1 = set(listaux)\n",
        "Set1"
      ],
      "execution_count": null,
      "outputs": [
        {
          "output_type": "execute_result",
          "data": {
            "text/plain": [
              "{1,\n",
              " 2,\n",
              " 3,\n",
              " 4,\n",
              " 5,\n",
              " 6,\n",
              " 7,\n",
              " 8,\n",
              " 9,\n",
              " 10,\n",
              " 11,\n",
              " 12,\n",
              " 13,\n",
              " 14,\n",
              " 15,\n",
              " 16,\n",
              " 17,\n",
              " 18,\n",
              " 19,\n",
              " 20,\n",
              " 21,\n",
              " 22,\n",
              " 23,\n",
              " 24,\n",
              " 25}"
            ]
          },
          "metadata": {},
          "execution_count": 258
        }
      ]
    },
    {
      "cell_type": "markdown",
      "metadata": {
        "id": "sIhIWvesXkp6"
      },
      "source": [
        "Comprueba la longitud de tu set."
      ]
    },
    {
      "cell_type": "code",
      "metadata": {
        "colab": {
          "base_uri": "https://localhost:8080/"
        },
        "id": "Y4z0QGeWXoaC",
        "outputId": "ec4cc70c-2190-4474-fac2-585dc12f4c09"
      },
      "source": [
        "len(Set1)"
      ],
      "execution_count": null,
      "outputs": [
        {
          "output_type": "execute_result",
          "data": {
            "text/plain": [
              "25"
            ]
          },
          "metadata": {},
          "execution_count": 259
        }
      ]
    },
    {
      "cell_type": "markdown",
      "metadata": {
        "id": "LOTE2qzVXu7l"
      },
      "source": [
        "Crea una lista de 5 numeros aleatorios del 1 al 10 y comprueba si cada valor aparece en el set inicial.\n",
        "\n"
      ]
    },
    {
      "cell_type": "code",
      "metadata": {
        "colab": {
          "base_uri": "https://localhost:8080/"
        },
        "id": "FqWcELJVXv-v",
        "outputId": "6ba886d5-6acd-4805-94d3-034b119044cf"
      },
      "source": [
        "listaux = []\n",
        "setaux = set()\n",
        "for i in range (0,5):\n",
        "    listaux.append(r.randint(1, 10))\n",
        "for i in range (0,len(listaux)):\n",
        "  if listaux[i] in Set1:\n",
        "    setaux.add(listaux[i])\n",
        "print(setaux,\" se encuentran en el set inicial\")"
      ],
      "execution_count": null,
      "outputs": [
        {
          "output_type": "stream",
          "text": [
            "{1, 2, 3, 6, 7}  se encuentran en el set inicial\n"
          ],
          "name": "stdout"
        }
      ]
    }
  ]
}