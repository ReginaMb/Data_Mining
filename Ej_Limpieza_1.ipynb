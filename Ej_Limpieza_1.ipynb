{
  "nbformat": 4,
  "nbformat_minor": 0,
  "metadata": {
    "colab": {
      "name": "Ej_Limpieza_1.ipynb",
      "provenance": [],
      "collapsed_sections": [],
      "include_colab_link": true
    },
    "kernelspec": {
      "name": "python3",
      "display_name": "Python 3"
    },
    "language_info": {
      "name": "python"
    }
  },
  "cells": [
    {
      "cell_type": "markdown",
      "metadata": {
        "id": "view-in-github",
        "colab_type": "text"
      },
      "source": [
        "<a href=\"https://colab.research.google.com/github/ReginaMb/Data_Mining/blob/main/Ej_Limpieza_1.ipynb\" target=\"_parent\"><img src=\"https://colab.research.google.com/assets/colab-badge.svg\" alt=\"Open In Colab\"/></a>"
      ]
    },
    {
      "cell_type": "markdown",
      "metadata": {
        "id": "WkfLWYsi21ia"
      },
      "source": [
        "#**Práctica 1 - Limpieza de Datos**\n",
        "Equipo 1\n",
        "\n",
        "Grupo 002\n",
        "\n",
        "Miércoles 7-10PM\n",
        "\n",
        "*   1851448 Muñoz Barrientos Regina\n",
        "*   1941592 Lagos Martinez José Alejandro\n",
        "*   1849202 Dominguez Victorino Cesar Oswaldo\n",
        "*   1793775 Rodriguez Guerrero Luisa Victoria"
      ]
    },
    {
      "cell_type": "markdown",
      "metadata": {
        "id": "Hcr13Rrs45Lk"
      },
      "source": [
        "**Netflix Movies and TV Shows**\n",
        "\n",
        "https://www.kaggle.com/shivamb/netflix-shows\n"
      ]
    },
    {
      "cell_type": "markdown",
      "metadata": {
        "id": "xtJQ-G76-3w-"
      },
      "source": [
        "Lo primero es importar las librerías y la base de datos que llamaremos `bd` que decidimos utilizar.\n",
        "\n",
        "Con la instrucción `bd.shape` obtenemos las dimensiones de nuestro data frame. "
      ]
    },
    {
      "cell_type": "code",
      "metadata": {
        "colab": {
          "base_uri": "https://localhost:8080/"
        },
        "id": "d1ojZOQl4awf",
        "outputId": "63eb3d39-8f9b-4cc1-a484-c91935448c86"
      },
      "source": [
        "import pandas as pd\n",
        "import numpy as np\n",
        "\n",
        "bd = pd.read_csv(\"netflix_titles.csv\")\n",
        "bd.shape"
      ],
      "execution_count": 3,
      "outputs": [
        {
          "output_type": "execute_result",
          "data": {
            "text/plain": [
              "(7787, 12)"
            ]
          },
          "metadata": {},
          "execution_count": 3
        }
      ]
    },
    {
      "cell_type": "markdown",
      "metadata": {
        "id": "3C2_5EHi_fAr"
      },
      "source": [
        "Tenemos 7787 títulos de Netflix registrados y 12 columnas.\n",
        "\n",
        "La instrucción `bd.head()` muestra los primeros 5 registros.\n",
        "Análogamente `bd.tail()` muestra los últimos 5 regstros."
      ]
    },
    {
      "cell_type": "code",
      "metadata": {
        "colab": {
          "base_uri": "https://localhost:8080/",
          "height": 666
        },
        "id": "DezRUKn173fI",
        "outputId": "ede3423f-b2a3-4a68-cf31-ea29e47614da"
      },
      "source": [
        "bd.head()"
      ],
      "execution_count": 4,
      "outputs": [
        {
          "output_type": "execute_result",
          "data": {
            "text/html": [
              "<div>\n",
              "<style scoped>\n",
              "    .dataframe tbody tr th:only-of-type {\n",
              "        vertical-align: middle;\n",
              "    }\n",
              "\n",
              "    .dataframe tbody tr th {\n",
              "        vertical-align: top;\n",
              "    }\n",
              "\n",
              "    .dataframe thead th {\n",
              "        text-align: right;\n",
              "    }\n",
              "</style>\n",
              "<table border=\"1\" class=\"dataframe\">\n",
              "  <thead>\n",
              "    <tr style=\"text-align: right;\">\n",
              "      <th></th>\n",
              "      <th>show_id</th>\n",
              "      <th>type</th>\n",
              "      <th>title</th>\n",
              "      <th>director</th>\n",
              "      <th>cast</th>\n",
              "      <th>country</th>\n",
              "      <th>date_added</th>\n",
              "      <th>release_year</th>\n",
              "      <th>rating</th>\n",
              "      <th>duration</th>\n",
              "      <th>listed_in</th>\n",
              "      <th>description</th>\n",
              "    </tr>\n",
              "  </thead>\n",
              "  <tbody>\n",
              "    <tr>\n",
              "      <th>0</th>\n",
              "      <td>s1</td>\n",
              "      <td>TV Show</td>\n",
              "      <td>3%</td>\n",
              "      <td>NaN</td>\n",
              "      <td>João Miguel, Bianca Comparato, Michel Gomes, R...</td>\n",
              "      <td>Brazil</td>\n",
              "      <td>August 14, 2020</td>\n",
              "      <td>2020</td>\n",
              "      <td>TV-MA</td>\n",
              "      <td>4 Seasons</td>\n",
              "      <td>International TV Shows, TV Dramas, TV Sci-Fi &amp;...</td>\n",
              "      <td>In a future where the elite inhabit an island ...</td>\n",
              "    </tr>\n",
              "    <tr>\n",
              "      <th>1</th>\n",
              "      <td>s2</td>\n",
              "      <td>Movie</td>\n",
              "      <td>7:19</td>\n",
              "      <td>Jorge Michel Grau</td>\n",
              "      <td>Demián Bichir, Héctor Bonilla, Oscar Serrano, ...</td>\n",
              "      <td>Mexico</td>\n",
              "      <td>December 23, 2016</td>\n",
              "      <td>2016</td>\n",
              "      <td>TV-MA</td>\n",
              "      <td>93 min</td>\n",
              "      <td>Dramas, International Movies</td>\n",
              "      <td>After a devastating earthquake hits Mexico Cit...</td>\n",
              "    </tr>\n",
              "    <tr>\n",
              "      <th>2</th>\n",
              "      <td>s3</td>\n",
              "      <td>Movie</td>\n",
              "      <td>23:59</td>\n",
              "      <td>Gilbert Chan</td>\n",
              "      <td>Tedd Chan, Stella Chung, Henley Hii, Lawrence ...</td>\n",
              "      <td>Singapore</td>\n",
              "      <td>December 20, 2018</td>\n",
              "      <td>2011</td>\n",
              "      <td>R</td>\n",
              "      <td>78 min</td>\n",
              "      <td>Horror Movies, International Movies</td>\n",
              "      <td>When an army recruit is found dead, his fellow...</td>\n",
              "    </tr>\n",
              "    <tr>\n",
              "      <th>3</th>\n",
              "      <td>s4</td>\n",
              "      <td>Movie</td>\n",
              "      <td>9</td>\n",
              "      <td>Shane Acker</td>\n",
              "      <td>Elijah Wood, John C. Reilly, Jennifer Connelly...</td>\n",
              "      <td>United States</td>\n",
              "      <td>November 16, 2017</td>\n",
              "      <td>2009</td>\n",
              "      <td>PG-13</td>\n",
              "      <td>80 min</td>\n",
              "      <td>Action &amp; Adventure, Independent Movies, Sci-Fi...</td>\n",
              "      <td>In a postapocalyptic world, rag-doll robots hi...</td>\n",
              "    </tr>\n",
              "    <tr>\n",
              "      <th>4</th>\n",
              "      <td>s5</td>\n",
              "      <td>Movie</td>\n",
              "      <td>21</td>\n",
              "      <td>Robert Luketic</td>\n",
              "      <td>Jim Sturgess, Kevin Spacey, Kate Bosworth, Aar...</td>\n",
              "      <td>United States</td>\n",
              "      <td>January 1, 2020</td>\n",
              "      <td>2008</td>\n",
              "      <td>PG-13</td>\n",
              "      <td>123 min</td>\n",
              "      <td>Dramas</td>\n",
              "      <td>A brilliant group of students become card-coun...</td>\n",
              "    </tr>\n",
              "  </tbody>\n",
              "</table>\n",
              "</div>"
            ],
            "text/plain": [
              "  show_id  ...                                        description\n",
              "0      s1  ...  In a future where the elite inhabit an island ...\n",
              "1      s2  ...  After a devastating earthquake hits Mexico Cit...\n",
              "2      s3  ...  When an army recruit is found dead, his fellow...\n",
              "3      s4  ...  In a postapocalyptic world, rag-doll robots hi...\n",
              "4      s5  ...  A brilliant group of students become card-coun...\n",
              "\n",
              "[5 rows x 12 columns]"
            ]
          },
          "metadata": {},
          "execution_count": 4
        }
      ]
    },
    {
      "cell_type": "code",
      "metadata": {
        "colab": {
          "base_uri": "https://localhost:8080/",
          "height": 598
        },
        "id": "rAF5jQu375Jq",
        "outputId": "ce9c6fdb-0a7c-427b-9ee3-89d0eb111f3c"
      },
      "source": [
        "bd.tail()"
      ],
      "execution_count": 5,
      "outputs": [
        {
          "output_type": "execute_result",
          "data": {
            "text/html": [
              "<div>\n",
              "<style scoped>\n",
              "    .dataframe tbody tr th:only-of-type {\n",
              "        vertical-align: middle;\n",
              "    }\n",
              "\n",
              "    .dataframe tbody tr th {\n",
              "        vertical-align: top;\n",
              "    }\n",
              "\n",
              "    .dataframe thead th {\n",
              "        text-align: right;\n",
              "    }\n",
              "</style>\n",
              "<table border=\"1\" class=\"dataframe\">\n",
              "  <thead>\n",
              "    <tr style=\"text-align: right;\">\n",
              "      <th></th>\n",
              "      <th>show_id</th>\n",
              "      <th>type</th>\n",
              "      <th>title</th>\n",
              "      <th>director</th>\n",
              "      <th>cast</th>\n",
              "      <th>country</th>\n",
              "      <th>date_added</th>\n",
              "      <th>release_year</th>\n",
              "      <th>rating</th>\n",
              "      <th>duration</th>\n",
              "      <th>listed_in</th>\n",
              "      <th>description</th>\n",
              "    </tr>\n",
              "  </thead>\n",
              "  <tbody>\n",
              "    <tr>\n",
              "      <th>7782</th>\n",
              "      <td>s7783</td>\n",
              "      <td>Movie</td>\n",
              "      <td>Zozo</td>\n",
              "      <td>Josef Fares</td>\n",
              "      <td>Imad Creidi, Antoinette Turk, Elias Gergi, Car...</td>\n",
              "      <td>Sweden, Czech Republic, United Kingdom, Denmar...</td>\n",
              "      <td>October 19, 2020</td>\n",
              "      <td>2005</td>\n",
              "      <td>TV-MA</td>\n",
              "      <td>99 min</td>\n",
              "      <td>Dramas, International Movies</td>\n",
              "      <td>When Lebanon's Civil War deprives Zozo of his ...</td>\n",
              "    </tr>\n",
              "    <tr>\n",
              "      <th>7783</th>\n",
              "      <td>s7784</td>\n",
              "      <td>Movie</td>\n",
              "      <td>Zubaan</td>\n",
              "      <td>Mozez Singh</td>\n",
              "      <td>Vicky Kaushal, Sarah-Jane Dias, Raaghav Chanan...</td>\n",
              "      <td>India</td>\n",
              "      <td>March 2, 2019</td>\n",
              "      <td>2015</td>\n",
              "      <td>TV-14</td>\n",
              "      <td>111 min</td>\n",
              "      <td>Dramas, International Movies, Music &amp; Musicals</td>\n",
              "      <td>A scrappy but poor boy worms his way into a ty...</td>\n",
              "    </tr>\n",
              "    <tr>\n",
              "      <th>7784</th>\n",
              "      <td>s7785</td>\n",
              "      <td>Movie</td>\n",
              "      <td>Zulu Man in Japan</td>\n",
              "      <td>NaN</td>\n",
              "      <td>Nasty C</td>\n",
              "      <td>NaN</td>\n",
              "      <td>September 25, 2020</td>\n",
              "      <td>2019</td>\n",
              "      <td>TV-MA</td>\n",
              "      <td>44 min</td>\n",
              "      <td>Documentaries, International Movies, Music &amp; M...</td>\n",
              "      <td>In this documentary, South African rapper Nast...</td>\n",
              "    </tr>\n",
              "    <tr>\n",
              "      <th>7785</th>\n",
              "      <td>s7786</td>\n",
              "      <td>TV Show</td>\n",
              "      <td>Zumbo's Just Desserts</td>\n",
              "      <td>NaN</td>\n",
              "      <td>Adriano Zumbo, Rachel Khoo</td>\n",
              "      <td>Australia</td>\n",
              "      <td>October 31, 2020</td>\n",
              "      <td>2019</td>\n",
              "      <td>TV-PG</td>\n",
              "      <td>1 Season</td>\n",
              "      <td>International TV Shows, Reality TV</td>\n",
              "      <td>Dessert wizard Adriano Zumbo looks for the nex...</td>\n",
              "    </tr>\n",
              "    <tr>\n",
              "      <th>7786</th>\n",
              "      <td>s7787</td>\n",
              "      <td>Movie</td>\n",
              "      <td>ZZ TOP: THAT LITTLE OL' BAND FROM TEXAS</td>\n",
              "      <td>Sam Dunn</td>\n",
              "      <td>NaN</td>\n",
              "      <td>United Kingdom, Canada, United States</td>\n",
              "      <td>March 1, 2020</td>\n",
              "      <td>2019</td>\n",
              "      <td>TV-MA</td>\n",
              "      <td>90 min</td>\n",
              "      <td>Documentaries, Music &amp; Musicals</td>\n",
              "      <td>This documentary delves into the mystique behi...</td>\n",
              "    </tr>\n",
              "  </tbody>\n",
              "</table>\n",
              "</div>"
            ],
            "text/plain": [
              "     show_id  ...                                        description\n",
              "7782   s7783  ...  When Lebanon's Civil War deprives Zozo of his ...\n",
              "7783   s7784  ...  A scrappy but poor boy worms his way into a ty...\n",
              "7784   s7785  ...  In this documentary, South African rapper Nast...\n",
              "7785   s7786  ...  Dessert wizard Adriano Zumbo looks for the nex...\n",
              "7786   s7787  ...  This documentary delves into the mystique behi...\n",
              "\n",
              "[5 rows x 12 columns]"
            ]
          },
          "metadata": {},
          "execution_count": 5
        }
      ]
    },
    {
      "cell_type": "markdown",
      "metadata": {
        "id": "NDNLCQNZAXax"
      },
      "source": [
        "Con `bd.columns` vemos los nombres de las columnas"
      ]
    },
    {
      "cell_type": "code",
      "metadata": {
        "colab": {
          "base_uri": "https://localhost:8080/"
        },
        "id": "6KofofqDCzYg",
        "outputId": "a34ecd78-927b-4c0f-80de-df50ae2adbf2"
      },
      "source": [
        "bd.columns"
      ],
      "execution_count": 6,
      "outputs": [
        {
          "output_type": "execute_result",
          "data": {
            "text/plain": [
              "Index(['show_id', 'type', 'title', 'director', 'cast', 'country', 'date_added',\n",
              "       'release_year', 'rating', 'duration', 'listed_in', 'description'],\n",
              "      dtype='object')"
            ]
          },
          "metadata": {},
          "execution_count": 6
        }
      ]
    },
    {
      "cell_type": "markdown",
      "metadata": {
        "id": "cFrnglRdFI2j"
      },
      "source": [
        "Decidimos cambiar el nombre de dos columnas, \"listed_in\" muestra el genero de la serie o película por lo que la renombramos \"genre\" y \"type\" cambió a \"type_show\" porque type es el nombre de una funcion y podría ocasionar problemas más adelante."
      ]
    },
    {
      "cell_type": "code",
      "metadata": {
        "id": "IT7xZffdFpBC"
      },
      "source": [
        "bd=bd.rename(columns = {'listed_in':'genre'})\n",
        "bd=bd.rename(columns = {'type':'type_show'})"
      ],
      "execution_count": 7,
      "outputs": []
    },
    {
      "cell_type": "markdown",
      "metadata": {
        "id": "Ik4F3A0XFzD7"
      },
      "source": [
        "Con `bd.dtypes` obtenemos el tipo de dato en cada columna."
      ]
    },
    {
      "cell_type": "code",
      "metadata": {
        "colab": {
          "base_uri": "https://localhost:8080/"
        },
        "id": "NxNyFXKJ8QmQ",
        "outputId": "b9138c71-5624-4de1-b846-f216370297c0"
      },
      "source": [
        "bd.dtypes"
      ],
      "execution_count": 8,
      "outputs": [
        {
          "output_type": "execute_result",
          "data": {
            "text/plain": [
              "show_id         object\n",
              "type_show       object\n",
              "title           object\n",
              "director        object\n",
              "cast            object\n",
              "country         object\n",
              "date_added      object\n",
              "release_year     int64\n",
              "rating          object\n",
              "duration        object\n",
              "genre           object\n",
              "description     object\n",
              "dtype: object"
            ]
          },
          "metadata": {},
          "execution_count": 8
        }
      ]
    },
    {
      "cell_type": "markdown",
      "metadata": {
        "id": "vipnvsdtGYfo"
      },
      "source": [
        "Con `bd.isnull().any()` obtenemos `True` en las columnas donde existen datos nulos."
      ]
    },
    {
      "cell_type": "code",
      "metadata": {
        "colab": {
          "base_uri": "https://localhost:8080/"
        },
        "id": "ufB9t2yIE8a2",
        "outputId": "3297097e-7b55-4aa0-dd77-4f2791d461e5"
      },
      "source": [
        "bd.isnull().any()"
      ],
      "execution_count": 9,
      "outputs": [
        {
          "output_type": "execute_result",
          "data": {
            "text/plain": [
              "show_id         False\n",
              "type_show       False\n",
              "title           False\n",
              "director         True\n",
              "cast             True\n",
              "country          True\n",
              "date_added       True\n",
              "release_year    False\n",
              "rating           True\n",
              "duration        False\n",
              "genre           False\n",
              "description     False\n",
              "dtype: bool"
            ]
          },
          "metadata": {},
          "execution_count": 9
        }
      ]
    },
    {
      "cell_type": "markdown",
      "metadata": {
        "id": "byg-hdoUGmcO"
      },
      "source": [
        "Decidimos llenar campos nulos con \"N/A\" que significa \"Not Available\" o No Disponible."
      ]
    },
    {
      "cell_type": "code",
      "metadata": {
        "colab": {
          "base_uri": "https://localhost:8080/"
        },
        "id": "JZQJwg86Gx_h",
        "outputId": "87cc951a-3367-42ee-f629-13e7c57d5122"
      },
      "source": [
        "bd_sn = bd.fillna(\"N/A\")\n",
        "bd_sn.isnull().any()"
      ],
      "execution_count": 10,
      "outputs": [
        {
          "output_type": "execute_result",
          "data": {
            "text/plain": [
              "show_id         False\n",
              "type_show       False\n",
              "title           False\n",
              "director        False\n",
              "cast            False\n",
              "country         False\n",
              "date_added      False\n",
              "release_year    False\n",
              "rating          False\n",
              "duration        False\n",
              "genre           False\n",
              "description     False\n",
              "dtype: bool"
            ]
          },
          "metadata": {},
          "execution_count": 10
        }
      ]
    },
    {
      "cell_type": "markdown",
      "metadata": {
        "id": "SweDsbByHvWp"
      },
      "source": [
        "Como todos los datos nulos fueron cambiados por \"N/A\" todas las columnas dicen `False`, es decir que no cuenta con datos nulos.\n",
        "\n",
        "Con `bd_sn.type_show.unique()` revisamos los valores únicos para la columna type_show."
      ]
    },
    {
      "cell_type": "code",
      "metadata": {
        "colab": {
          "base_uri": "https://localhost:8080/"
        },
        "id": "RmEXRntFHLyb",
        "outputId": "a3c72fd3-56b2-45fb-9e89-39c0f796bd63"
      },
      "source": [
        "bd_sn.type_show.unique()"
      ],
      "execution_count": 11,
      "outputs": [
        {
          "output_type": "execute_result",
          "data": {
            "text/plain": [
              "array(['TV Show', 'Movie'], dtype=object)"
            ]
          },
          "metadata": {},
          "execution_count": 11
        }
      ]
    },
    {
      "cell_type": "markdown",
      "metadata": {
        "id": "u-8ikYn_IN_I"
      },
      "source": [
        "Vemos que solo hay dos tipos Serie o Película. Decidimos cambiar los valores de esta columna y que el 1 represente Serie de TV y que el 2 represente Película ya que así se vuelve más fácil trabajar con ellos.\n",
        "\n",
        "Obtuvimos el código del siguiente sitio: [https://datatofish.com/replace-values-pandas-dataframe/](https://datatofish.com/replace-values-pandas-dataframe/)"
      ]
    },
    {
      "cell_type": "code",
      "metadata": {
        "colab": {
          "base_uri": "https://localhost:8080/"
        },
        "id": "MyZzwbGfKR_a",
        "outputId": "3b8849af-2000-4f47-ce61-7628d8bd5892"
      },
      "source": [
        "bd_sn['type_show'] = bd_sn['type_show'].replace(['TV Show', 'Movie'],[1,2])\n",
        "bd_sn.type_show.unique()"
      ],
      "execution_count": 12,
      "outputs": [
        {
          "output_type": "execute_result",
          "data": {
            "text/plain": [
              "array([1, 2])"
            ]
          },
          "metadata": {},
          "execution_count": 12
        }
      ]
    },
    {
      "cell_type": "markdown",
      "metadata": {
        "id": "ZT-lFWDOJRlj"
      },
      "source": [
        "Vemos que esta columna ahora solo tiene 1 y 2.\n",
        "\n",
        "Lo siguiente es guardar archivos en agrupaciones por lo que ahora tenemos dos \"sub bases\", una que contiene únicamente series y la otra películas."
      ]
    },
    {
      "cell_type": "code",
      "metadata": {
        "id": "NOyRiumBLx2e"
      },
      "source": [
        "shows=bd_sn[bd_sn['type_show']==1]\n",
        "movies=bd_sn[bd_sn['type_show']==2]\n",
        "shows.to_csv(\"Shows_Netflix.csv\",index=False)\n",
        "movies.to_csv(\"Movies_Netflix.csv\",index=False)"
      ],
      "execution_count": 15,
      "outputs": []
    },
    {
      "cell_type": "markdown",
      "metadata": {
        "id": "tum4Fn1tG8VF"
      },
      "source": [
        "Vemos que estos archivos se guardaron exitosamente en el apartado de archivos.\n",
        "\n",
        "![imagen_2021-08-30_232714.png](data:image/png;base64,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)\n",
        "# Preguntas de Interés\n",
        "**¿Para que me puede servir estas agrupaciones para la práctica siguiente?**\n",
        "\n",
        "Estas agrupaciones facilitan la comparación entre las clases de una columna, en el caso de los vinos podríamos ver que vinos tienen mejores ratings. En nuestro caso para las series la duración es en temporadas y para las películas en minutos, así que al agruparlos podemos comparar las series y películas por separado. En algunos casos, pasa lo mismo que en muestreo aleatorio estratificado donde hay menor varianza dentro de cada estrato. Aquí algunos valores de otras columnas varían menos si pertenecen a cierta clase por lo que esta menor varianza puede hacer que los modelos que usemos sean mejores.\n",
        "\n",
        "**Importancia del analisis previo de los datos antes de iniciar las modificaciones.**\n",
        "\n",
        "Antes de la modificación, el análisis es importante debido a que al realizarse, se puede observar los datos importantes que utilizaremos para un proyecto, la cantidad de datos que son nulos, verificar que los nombres de las columnas estén acorde a los datos presentados en dicha columna, entre otros. Es importante asimilar para saber de donde partir con nuestra información y de ahí empezarla a manejar para moldearla de manera que nos sea cómoda y útil.\n",
        "\n",
        "Pts Extra. \n",
        "\n",
        "`df.dropna()` elimina todas las filas que contengan datos nulos.\n",
        "\n",
        "Obtenido de [P1-Preparacion de datos](https://github.com/mayraberrones94/FCFM/blob/master/Clase_Mineria_2020/P1-Preparacion%20de%20datos.ipynb)\n",
        "\n",
        "`df.astype()` puede ser usado para cambiar el tipo de dato de una columna.\n",
        " Obtenido de [Python | Pandas DataFrame.astype()](https://www.geeksforgeeks.org/python-pandas-dataframe-astype/)"
      ]
    }
  ]
}